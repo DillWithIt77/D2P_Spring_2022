{
 "cells": [
  {
   "cell_type": "markdown",
   "metadata": {},
   "source": [
    "# Bike Routes in Denver\n",
    "\n",
    "In this notebook, we load the bike routes of Denver."
   ]
  },
  {
   "cell_type": "code",
   "execution_count": 1,
   "metadata": {},
   "outputs": [
    {
     "name": "stderr",
     "output_type": "stream",
     "text": [
      "C:\\Users\\17347\\Documents\\Anaconda\\envs\\geo_env\\lib\\site-packages\\tqdm\\auto.py:22: TqdmWarning: IProgress not found. Please update jupyter and ipywidgets. See https://ipywidgets.readthedocs.io/en/stable/user_install.html\n",
      "  from .autonotebook import tqdm as notebook_tqdm\n"
     ]
    }
   ],
   "source": [
    "import numpy as np\n",
    "import pandas as pd\n",
    "import geopandas as gpd\n",
    "import networkx as nx\n",
    "import geonetworkx as gnx\n",
    "import momepy # Used to build networks from GDF\n",
    "import matplotlib.pyplot as plt\n",
    "import csv"
   ]
  },
  {
   "cell_type": "code",
   "execution_count": 2,
   "metadata": {},
   "outputs": [],
   "source": [
    "bike_fac = gpd.read_file(\"existing_denver_bike_facilities.shp\")"
   ]
  },
  {
   "cell_type": "code",
   "execution_count": 3,
   "metadata": {},
   "outputs": [],
   "source": [
    "bike_fac_path_cat = pd.Categorical(bike_fac['EXISTING_F'])\n",
    "bike_fac_path_cat\n",
    "bike_fac['path_codes'] = bike_fac_path_cat.codes"
   ]
  },
  {
   "cell_type": "markdown",
   "metadata": {},
   "source": [
    "Getting Distances of Paths in Meters"
   ]
  },
  {
   "cell_type": "code",
   "execution_count": 4,
   "metadata": {},
   "outputs": [],
   "source": [
    "lines_bike_fac = bike_fac.explode(index_parts=True)"
   ]
  },
  {
   "cell_type": "code",
   "execution_count": 5,
   "metadata": {},
   "outputs": [],
   "source": [
    "np.set_printoptions(suppress=True)\n",
    "dist = list(lines_bike_fac.to_crs(3763).length)\n",
    "dist = np.array(dist)\n",
    "dist = dist.round(decimals = 2)\n",
    "# dist"
   ]
  },
  {
   "cell_type": "code",
   "execution_count": 6,
   "metadata": {},
   "outputs": [],
   "source": [
    "lines_bike_fac['lengths'] = dist"
   ]
  },
  {
   "cell_type": "code",
   "execution_count": 7,
   "metadata": {},
   "outputs": [
    {
     "name": "stderr",
     "output_type": "stream",
     "text": [
      "C:\\Users\\17347\\Documents\\Anaconda\\envs\\geo_env\\lib\\site-packages\\momepy\\utils.py:235: UserWarning: Geometry is in a geographic CRS. Results from 'length' are likely incorrect. Use 'GeoSeries.to_crs()' to re-project geometries to a projected CRS before this operation.\n",
      "\n",
      "  gdf_network[length] = gdf_network.geometry.length\n"
     ]
    }
   ],
   "source": [
    "g_primal = momepy.gdf_to_nx(lines_bike_fac, approach = 'primal')\n",
    "# positions = {n: [n[0], n[1]] for n in list(g_primal.nodes)}\n",
    "# plt.figure(1,figsize=(50,50))\n",
    "# nx.draw(g_primal,positions)\n",
    "# plt.show()"
   ]
  },
  {
   "cell_type": "markdown",
   "metadata": {},
   "source": [
    "Relabelling nodes and edges"
   ]
  },
  {
   "cell_type": "code",
   "execution_count": 8,
   "metadata": {},
   "outputs": [],
   "source": [
    "mapping = dict(zip(g_primal, range(1, len(list(g_primal.nodes))+1)))\n",
    "G_labels = nx.relabel_nodes(g_primal, mapping)"
   ]
  },
  {
   "cell_type": "code",
   "execution_count": 9,
   "metadata": {},
   "outputs": [],
   "source": [
    "# current format is \"tail, head, edge label\"\n",
    "edges = np.array(list(G_labels.edges))"
   ]
  },
  {
   "cell_type": "markdown",
   "metadata": {},
   "source": [
    "Get path category and distance data from each edge"
   ]
  },
  {
   "cell_type": "code",
   "execution_count": 10,
   "metadata": {},
   "outputs": [],
   "source": [
    "lengths = []\n",
    "path_cat = []\n",
    "for i in range(len(edges)):\n",
    "    lengths.append(G_labels.get_edge_data(edges[i,0],edges[i,1]).get(edges[i,2]).get('lengths'))\n",
    "    path_cat.append(G_labels.get_edge_data(edges[i,0],edges[i,1]).get(edges[i,2]).get('path_codes'))"
   ]
  },
  {
   "cell_type": "markdown",
   "metadata": {},
   "source": [
    "combine edge data into sinlg np.array"
   ]
  },
  {
   "cell_type": "code",
   "execution_count": 11,
   "metadata": {},
   "outputs": [],
   "source": [
    "add_dists = np.concatenate((edges[:,:2], np.array(lengths).reshape(len(lengths),1)), 1)\n",
    "all_edge_data = np.concatenate((add_dists, np.array(path_cat).reshape(len(path_cat),1)), 1)\n",
    "# all_edge_data"
   ]
  },
  {
   "cell_type": "markdown",
   "metadata": {},
   "source": [
    "Put node labels in np.array"
   ]
  },
  {
   "cell_type": "code",
   "execution_count": 12,
   "metadata": {},
   "outputs": [],
   "source": [
    "nodes = np.array(list(G_labels.nodes))\n",
    "# nodes"
   ]
  },
  {
   "cell_type": "code",
   "execution_count": 13,
   "metadata": {},
   "outputs": [],
   "source": [
    "# edgesdf = pd.DataFrame(all_edge_data)\n",
    "# nodesdf = pd.DataFrame(nodes)\n",
    "  \n",
    "# # save the dataframe as a csv file\n",
    "# edgesdf.to_csv(\"edge_data.csv\")\n",
    "# nodesdf.to_csv(\"node_data.csv\")"
   ]
  },
  {
   "cell_type": "markdown",
   "metadata": {},
   "source": [
    "## New Edge Data Node Correction"
   ]
  },
  {
   "cell_type": "code",
   "execution_count": 14,
   "metadata": {},
   "outputs": [],
   "source": [
    "node_data = pd.read_csv('cleaned_coords.csv')"
   ]
  },
  {
   "cell_type": "code",
   "execution_count": 15,
   "metadata": {},
   "outputs": [],
   "source": [
    "nodes = pd.DataFrame(np.array(range(0,len(node_data))))\n",
    "node_data['node'] = nodes\n",
    "# node_data"
   ]
  },
  {
   "cell_type": "code",
   "execution_count": 16,
   "metadata": {},
   "outputs": [],
   "source": [
    "edge_data = pd.read_csv ('cleaned_edges.csv')"
   ]
  },
  {
   "cell_type": "code",
   "execution_count": 17,
   "metadata": {},
   "outputs": [],
   "source": [
    "edge_data.columns\n",
    "edge_data = edge_data.rename(columns={'my_edges.from': 'tail', 'my_edges.to': 'head','my_edges.EXISTING_F': 'existing_f', 'my_edges.FULLNAME': 'fullname','my_edges.FROMNAME': 'fromname', 'my_edges.TONAME': 'toname'})\n",
    "edge_data['tail']-=1\n",
    "edge_data['head']-=1"
   ]
  },
  {
   "cell_type": "code",
   "execution_count": 18,
   "metadata": {},
   "outputs": [],
   "source": [
    "edge_data['existing_f'] = edge_data['existing_f'].fillna('Shared Use Path')"
   ]
  },
  {
   "cell_type": "code",
   "execution_count": 19,
   "metadata": {},
   "outputs": [
    {
     "name": "stderr",
     "output_type": "stream",
     "text": [
      "C:\\Users\\17347\\Documents\\Anaconda\\envs\\geo_env\\lib\\site-packages\\pandas\\core\\dtypes\\cast.py:122: ShapelyDeprecationWarning: The array interface is deprecated and will no longer work in Shapely 2.0. Convert the '.coords' to a numpy array instead.\n",
      "  arr = construct_1d_object_array_from_listlike(values)\n",
      "C:\\Users\\17347\\Documents\\Anaconda\\envs\\geo_env\\lib\\site-packages\\pandas\\core\\dtypes\\cast.py:122: ShapelyDeprecationWarning: The array interface is deprecated and will no longer work in Shapely 2.0. Convert the '.coords' to a numpy array instead.\n",
      "  arr = construct_1d_object_array_from_listlike(values)\n"
     ]
    }
   ],
   "source": [
    "from shapely.geometry import Point\n",
    "from shapely.geometry import LineString\n",
    "startlat = []\n",
    "endlat=[]\n",
    "startlong=[]\n",
    "endlong=[]\n",
    "for i in range(0, len(edge_data)):\n",
    "    startlat.append(node_data['X'][edge_data['tail'][i]])\n",
    "    startlong.append(node_data['Y'][edge_data['tail'][i]])\n",
    "    endlat.append(node_data['X'][edge_data['head'][i]])\n",
    "    endlong.append(node_data['Y'][edge_data['head'][i]])\n",
    "\n",
    "start = [Point(xy) for xy in zip(startlat, startlong)]    \n",
    "end = [Point(xy) for xy in zip(endlat, endlong)] \n",
    "edge_data['start'] = start\n",
    "edge_data['end'] = end"
   ]
  },
  {
   "cell_type": "code",
   "execution_count": 20,
   "metadata": {},
   "outputs": [
    {
     "name": "stderr",
     "output_type": "stream",
     "text": [
      "C:\\Users\\17347\\Documents\\Anaconda\\envs\\geo_env\\lib\\site-packages\\pandas\\core\\dtypes\\cast.py:122: ShapelyDeprecationWarning: The array interface is deprecated and will no longer work in Shapely 2.0. Convert the '.coords' to a numpy array instead.\n",
      "  arr = construct_1d_object_array_from_listlike(values)\n"
     ]
    }
   ],
   "source": [
    "edge_data['line'] = edge_data.apply(lambda row: LineString([row['start'], row['end']]), axis=1) #Create a linestring column\n",
    "\n",
    "# # Zip the coordinates into a point object and convert to a GeoDataFrame\n",
    "# geometry = [Point(xy) for xy in zip(startlong, startlat)]\n",
    "# df = GeoDataFrame(edge_data, geometry=geometry)\n",
    "\n",
    "# # Aggregate these points with the GroupBy\n",
    "# df = df.groupby(['entity_id'])['geometry'].apply(lambda x: LineString(x.tolist()))\n",
    "# df = GeoDataFrame(df, geometry='geometry')"
   ]
  },
  {
   "cell_type": "code",
   "execution_count": 21,
   "metadata": {},
   "outputs": [],
   "source": [
    "edge_data_geo = gpd.GeoDataFrame(edge_data, geometry='line')\n",
    "edge_data_geo.crs = \"EPSG:4326\"\n",
    "# edge_data"
   ]
  },
  {
   "cell_type": "code",
   "execution_count": 22,
   "metadata": {},
   "outputs": [
    {
     "data": {
      "text/plain": [
       "array([1110.51,  304.38, 1243.97, ...,  602.57, 1006.12,  829.88])"
      ]
     },
     "execution_count": 22,
     "metadata": {},
     "output_type": "execute_result"
    }
   ],
   "source": [
    "np.set_printoptions(suppress=True)\n",
    "dist = list(edge_data_geo.to_crs(3763).length)\n",
    "dist = np.array(dist)\n",
    "dist = dist.round(decimals = 2)\n",
    "dist"
   ]
  },
  {
   "cell_type": "code",
   "execution_count": 23,
   "metadata": {},
   "outputs": [
    {
     "name": "stdout",
     "output_type": "stream",
     "text": [
      "['Shared Roadway', 'Bike Lane', 'Bike Lane', 'Bike Lane', 'Bike Lane', ..., 'Shared Use Path', 'Shared Use Path', 'Shared Use Path', 'Shared Use Path', 'Shared Use Path']\n",
      "Length: 1245\n",
      "Categories (7, object): ['Bike Lane', 'Buffered Bike Lane', 'Neighborhood Bikeway', 'Protected Bike Lane', 'Shared Roadway', 'Shared Use Path', 'Trail']\n"
     ]
    }
   ],
   "source": [
    "bike_fac_path_cat = pd.Categorical(edge_data['existing_f'])\n",
    "print(bike_fac_path_cat)\n",
    "edge_data['path_codes'] = bike_fac_path_cat.codes\n",
    "edge_data['dist'] = dist\n",
    "# edge_data"
   ]
  },
  {
   "cell_type": "code",
   "execution_count": 24,
   "metadata": {},
   "outputs": [],
   "source": [
    "final_edge_data = []\n",
    "final_edge_data = pd.DataFrame(final_edge_data)\n",
    "final_edge_data['tail'] = edge_data['tail']\n",
    "final_edge_data['head'] = edge_data['head']\n",
    "final_edge_data['dist'] = edge_data['dist']\n",
    "final_edge_data['path_code'] = edge_data['path_codes']"
   ]
  },
  {
   "cell_type": "code",
   "execution_count": 25,
   "metadata": {},
   "outputs": [],
   "source": [
    "#edge_data_for plotting purposes\n",
    "plot_edge_data = []\n",
    "plot_edge_data = pd.DataFrame(final_edge_data)\n",
    "plot_edge_data['tail'] = edge_data['tail']\n",
    "plot_edge_data['head'] = edge_data['head']\n",
    "plot_edge_data['dist'] = edge_data['dist']\n",
    "plot_edge_data['path_code'] = edge_data['path_codes']\n",
    "plot_edge_data['lines'] = np.array(edge_data['line'])"
   ]
  },
  {
   "cell_type": "markdown",
   "metadata": {},
   "source": [
    "Save to CSV"
   ]
  },
  {
   "cell_type": "code",
   "execution_count": null,
   "metadata": {},
   "outputs": [],
   "source": [
    "final_edge_data.to_csv(\"edge_data_updated.csv\")"
   ]
  },
  {
   "cell_type": "code",
   "execution_count": null,
   "metadata": {},
   "outputs": [],
   "source": [
    "edge_data_geo.to_csv(\"plot_edge_data.csv\")"
   ]
  },
  {
   "cell_type": "code",
   "execution_count": null,
   "metadata": {},
   "outputs": [],
   "source": [
    "nodes.to_csv(\"node_data_updated.csv\")"
   ]
  },
  {
   "cell_type": "code",
   "execution_count": null,
   "metadata": {},
   "outputs": [],
   "source": [
    "node_data.to_csv(\"plot_node_data.csv\")"
   ]
  },
  {
   "cell_type": "markdown",
   "metadata": {},
   "source": [
    "## Getting Nodes Closest to Points of Interst"
   ]
  },
  {
   "cell_type": "code",
   "execution_count": 26,
   "metadata": {},
   "outputs": [],
   "source": [
    "points_of_interest = pd.DataFrame(columns = ['name', 'X', 'Y'])\n",
    "points_of_interest['name'] = ['Auraria Campus', 'Union Station', 'City Park', 'DU', 'Denver Central Market']\n",
    "points_of_interest['Y'] = [39.742840,39.7492941,39.733082,39.676610,39.759491]\n",
    "points_of_interest['X'] = [-105.006710,-104.995010,-104.952377,-104.959510,-104.984657]"
   ]
  },
  {
   "cell_type": "code",
   "execution_count": 27,
   "metadata": {},
   "outputs": [],
   "source": [
    "closest_node = np.zeros(len(points_of_interest))\n",
    "closest_node = closest_node + 100000000000\n",
    "min_dist = np.zeros(len(points_of_interest))\n",
    "min_dist = min_dist + 1000000000000\n",
    "geometry_nodes = gpd.points_from_xy(node_data.X, node_data.Y, crs=\"EPSG:4326\")\n",
    "geometry_locs = gpd.points_from_xy(points_of_interest.X, points_of_interest.Y, crs=\"EPSG:4326\")\n",
    "for j in range(len(points_of_interest)):\n",
    "    for i in range(len(node_data)):\n",
    "        if (geometry_nodes[i].distance(geometry_locs[j]) < min_dist[j]):\n",
    "            min_dist [j] = geometry_nodes[i].distance(geometry_locs[j])\n",
    "            closest_node[j] = i\n",
    "    \n",
    "    "
   ]
  },
  {
   "cell_type": "code",
   "execution_count": 28,
   "metadata": {},
   "outputs": [
    {
     "name": "stdout",
     "output_type": "stream",
     "text": [
      "location: Auraria Campus node: 26.0\n",
      "location: Union Station node: 433.0\n",
      "location: City Park node: 834.0\n",
      "location: DU node: 427.0\n",
      "location: Denver Central Market node: 112.0\n"
     ]
    }
   ],
   "source": [
    "for i in range(len(points_of_interest)):\n",
    "    print('location:', points_of_interest['name'][i],'node:',closest_node[i])"
   ]
  },
  {
   "cell_type": "markdown",
   "metadata": {},
   "source": [
    "## Making Plots of Shortest Paths"
   ]
  },
  {
   "cell_type": "code",
   "execution_count": 29,
   "metadata": {},
   "outputs": [],
   "source": [
    "auraria_path = np.array(pd.read_csv('shortest_path_res/auraria_res.csv'))\n",
    "du_path= np.array(pd.read_csv('shortest_path_res/DU_res.csv'))\n",
    "dcm_path= np.array(pd.read_csv('shortest_path_res/DCM_res.csv'))\n",
    "citypark_path= np.array(pd.read_csv('shortest_path_res/citypark_res.csv'))\n",
    "union_path= np.array(pd.read_csv('shortest_path_res/union_res.csv'))"
   ]
  },
  {
   "cell_type": "code",
   "execution_count": 30,
   "metadata": {},
   "outputs": [],
   "source": [
    "edge_data_geo = gpd.GeoDataFrame(edge_data, geometry = edge_data['line'])"
   ]
  },
  {
   "cell_type": "code",
   "execution_count": 32,
   "metadata": {},
   "outputs": [],
   "source": [
    "all_dest_paths = []"
   ]
  },
  {
   "cell_type": "code",
   "execution_count": 37,
   "metadata": {},
   "outputs": [],
   "source": [
    "def convert_to_path(table):\n",
    "    all_paths = []\n",
    "    sink = np.where(table[:,1]==0.0)\n",
    "    sink = sink[0]\n",
    "\n",
    "    for i in range(len(table)):\n",
    "        source = table[i,0]\n",
    "        pred_path = []\n",
    "        path(source, sink, table, pred_path)\n",
    "        all_paths.append(pred_path)\n",
    "    return all_paths"
   ]
  },
  {
   "cell_type": "code",
   "execution_count": 38,
   "metadata": {},
   "outputs": [],
   "source": [
    "def path(source, sink, path_array, pred_path):\n",
    "    next_node = (np.where(path_array[:,0]==source))\n",
    "    if(path_array[next_node[0],2] != source):\n",
    "        pred_path.append(source)\n",
    "        source = path_array[next_node[0],2][0]\n",
    "        path(source, sink, path_array, pred_path)"
   ]
  },
  {
   "cell_type": "code",
   "execution_count": 39,
   "metadata": {},
   "outputs": [],
   "source": [
    "def remove_subpaths(paths):\n",
    "    sets = [set(l) for l in paths]\n",
    "    uniq_paths = [l for l,s in zip(paths, sets) if not any(s < other for other in sets)]\n",
    "    return uniq_paths"
   ]
  },
  {
   "cell_type": "code",
   "execution_count": 40,
   "metadata": {},
   "outputs": [],
   "source": [
    "def path_plot(paths, all_edges):\n",
    "    plt.figure()\n",
    "    for j in paths:\n",
    "        shortest_path = []\n",
    "        for i in range(len(j)-1):\n",
    "            if(all_edges[(all_edges['tail'] == j[i]) & (all_edges['head']==j[i+1])].line.empty):\n",
    "                shortest_path.append(all_edges[(all_edges['head'] == j[i]) & (all_edges['tail']==j[i+1])].line)\n",
    "            else:\n",
    "                shortest_path.append(all_edges[(all_edges['tail'] == j[i]) & (all_edges['head']==j[i+1])].line)\n",
    "\n",
    "        shortest_path_df = pd.DataFrame(data = np.array(shortest_path), columns = ['lines'])\n",
    "        shortest_path_geo_df = gpd.GeoDataFrame(shortest_path_df, geometry=shortest_path_df['lines'])\n",
    "\n",
    "        \n",
    "        f, ax = plt.subplots(1, 1, figsize=(18, 6), sharex=True, sharey=True)\n",
    "        edge_data_geo.plot(color='black', ax=ax, zorder=-1)\n",
    "        shortest_path_geo_df.plot(ax=ax,color = 'green', linewidth=5)\n",
    "        ax.axis(\"off\")\n",
    "    ax.plot()"
   ]
  },
  {
   "cell_type": "code",
   "execution_count": 38,
   "metadata": {},
   "outputs": [
    {
     "name": "stderr",
     "output_type": "stream",
     "text": [
      "C:\\Users\\17347\\AppData\\Local\\Temp\\ipykernel_16640\\1100381811.py:3: DeprecationWarning: The truth value of an empty array is ambiguous. Returning False, but in future this will result in an error. Use `array.size > 0` to check that an array is not empty.\n",
      "  if(path_array[next_node[0],2] != source):\n"
     ]
    }
   ],
   "source": [
    "table = auraria_path\n",
    "# table = du_path\n",
    "# table = dcm_path\n",
    "# table = citypark_path\n",
    "# table = union_path\n",
    "converted_paths = convert_to_path(table)\n",
    "uniq_paths = remove_subpaths(converted_paths)\n",
    "# path_plot(uniq_paths,edge_data_geo)"
   ]
  },
  {
   "cell_type": "code",
   "execution_count": 44,
   "metadata": {},
   "outputs": [
    {
     "data": {
      "text/plain": [
       "list"
      ]
     },
     "execution_count": 44,
     "metadata": {},
     "output_type": "execute_result"
    }
   ],
   "source": []
  },
  {
   "cell_type": "code",
   "execution_count": 51,
   "metadata": {},
   "outputs": [],
   "source": [
    "# pd.DataFrame(uniq_paths).to_csv(\"auraria_sp.csv\")\n",
    "with open(\"auraria_sp.csv\",\"w\") as f:\n",
    "    writer = csv.writer(f,delimiter = ',')\n",
    "    writer.writerows(converted_paths)"
   ]
  },
  {
   "cell_type": "code",
   "execution_count": null,
   "metadata": {},
   "outputs": [],
   "source": [
    "all_dest_paths.extend(uniq_paths)\n",
    "# all_dest_paths = uniq_paths\n",
    "print(len(all_dest_paths))"
   ]
  },
  {
   "cell_type": "code",
   "execution_count": null,
   "metadata": {},
   "outputs": [],
   "source": [
    "converted_paths"
   ]
  },
  {
   "cell_type": "markdown",
   "metadata": {},
   "source": [
    "## Get Edges from Shortest Paths"
   ]
  },
  {
   "cell_type": "code",
   "execution_count": 31,
   "metadata": {},
   "outputs": [],
   "source": [
    "def path_edges(paths):\n",
    "    path_edges = []\n",
    "    for j in paths:\n",
    "#         shortest_path = np.zeros((len(j)-1,2))\n",
    "        for i in range(len(j)-1):\n",
    "            path_edges.append([j[i],j[i+1]])\n",
    "    return path_edges"
   ]
  },
  {
   "cell_type": "code",
   "execution_count": null,
   "metadata": {},
   "outputs": [],
   "source": [
    "short_path_edges = path_edges(all_dest_paths)"
   ]
  },
  {
   "cell_type": "code",
   "execution_count": null,
   "metadata": {},
   "outputs": [],
   "source": [
    "values, counts = np.unique(np.array(short_path_edges), return_counts=True, axis = 0)"
   ]
  },
  {
   "cell_type": "code",
   "execution_count": null,
   "metadata": {},
   "outputs": [],
   "source": [
    "edges=[]\n",
    "types = []\n",
    "for i in range(len(values)):\n",
    "    if(edge_data_geo[(edge_data_geo['tail'] == values[i,0]) & (edge_data_geo['head']==values[i,1])].line.empty):\n",
    "        edges.append(edge_data_geo[(edge_data_geo['head'] == values[i,0]) & (edge_data_geo['tail']==values[i,1])].line)\n",
    "        types.append(edge_data_geo[(edge_data_geo['head'] == values[i,0]) & (edge_data_geo['tail']==values[i,1])].existing_f)\n",
    "    else:\n",
    "        edges.append(edge_data_geo[(edge_data_geo['tail'] == values[i,0]) & (edge_data_geo['head']==values[i,1])].line)\n",
    "        types.append(edge_data_geo[(edge_data_geo['tail'] == values[i,0]) & (edge_data_geo['head']==values[i,1])].existing_f)\n",
    "\n",
    "        edges_df = pd.DataFrame(data = np.array(edges), columns = ['lines'])\n",
    "edges_df['counts'] = counts\n",
    "edges_df['path_codes'] = np.array(types)\n",
    "conditions_1 = [(edges_df['path_codes']=='Bike Lane'),\n",
    "              (edges_df['path_codes']=='Buffered Bike Lane'),\n",
    "              (edges_df['path_codes']=='Neighborhood Bikeway'),\n",
    "              (edges_df['path_codes']=='Protected Bike Lane'),\n",
    "              (edges_df['path_codes']=='Shared Roadway'),\n",
    "              (edges_df['path_codes']=='Shared Use Path'),\n",
    "              (edges_df['path_codes']=='Trail')]\n",
    "colors = ['#FE6100','#DC267F','#785EF0','#DC267F','#FFB000','#648FFF','#648FFF'] #orange, pink, purple, yellow, blue\n",
    "edges_df['color'] = np.select(conditions_1, colors)\n",
    "conditions_2 = [(edges_df['counts']<=20),\n",
    "              ((edges_df['counts']>20) & (edges_df['counts']<=50)),\n",
    "              ((edges_df['counts']>50) & (edges_df['counts']<=100)),\n",
    "              ((edges_df['counts']>100) & (edges_df['counts']<=200)),\n",
    "               ((edges_df['counts']>200) & (edges_df['counts']<=300))]\n",
    "vals = ['#0037C7','#5A82F3','#1EBED6','#FF5757','#FF0000'] #dark blue to dark red\n",
    "edges_df['freq'] = np.select(conditions_2, vals)\n",
    "edges_geo_df = gpd.GeoDataFrame(edges_df, geometry=edges_df['lines'])"
   ]
  },
  {
   "cell_type": "code",
   "execution_count": null,
   "metadata": {},
   "outputs": [],
   "source": [
    "#Path Codes\n",
    "#0:Bike Lane #FE6100 orange\n",
    "#1:Buffered Bike Lane #DC267F pink\n",
    "#2:Neighborhood Byway #785EF0 purple\n",
    "#3:Protect Bike Lane #DC267F pink\n",
    "#4:Shared Roadway #FFB000 yellow\n",
    "#5:Shared Use Path #648FFF blue\n",
    "#6:Trail #648FFF blue"
   ]
  },
  {
   "cell_type": "code",
   "execution_count": null,
   "metadata": {
    "scrolled": false
   },
   "outputs": [],
   "source": [
    "f, ax = plt.subplots(1, 1, figsize=(20, 20), sharex=True, sharey=True)\n",
    "all_edges = edge_data_geo.plot(linewidth = 5,color='black', ax=ax, zorder=-1)\n",
    "sp_edges = edges_geo_df.plot(column='path_codes',color = edges_geo_df['color'], ax = ax, linewidth = 7, zorder = 1,legend = True)\n",
    "dest_pts = (gpd.GeoDataFrame(geometry_locs, geometry=geometry_locs)).plot(markersize = 300,color = 'Black', ax = ax, zorder = 2)\n",
    "ax.axis(\"off\")\n",
    "plt.title('Types of Edges in Regular Shortest Paths', fontsize = 30)\n",
    "plt.savefig('sp_path_types.png')\n",
    "plt.show()"
   ]
  },
  {
   "cell_type": "markdown",
   "metadata": {},
   "source": [
    "## Tau Shortest Paths"
   ]
  },
  {
   "cell_type": "markdown",
   "metadata": {},
   "source": [
    "### Cautious"
   ]
  },
  {
   "cell_type": "code",
   "execution_count": 32,
   "metadata": {},
   "outputs": [],
   "source": [
    "def row_conversion(csvreader):\n",
    "    rows = []\n",
    "    for row in csvreader:\n",
    "        arr = np.array(row, dtype=int)\n",
    "        rows.append(list(arr))\n",
    "    return rows"
   ]
  },
  {
   "cell_type": "code",
   "execution_count": 59,
   "metadata": {},
   "outputs": [],
   "source": [
    "def tau_path_plot(edge_data, values_tau, counts_tau):\n",
    "    edges = []\n",
    "    types = []\n",
    "    for i in range(len(values_tau)):\n",
    "        if(edge_data[(edge_data['tail'] == values_tau[i,0]) & (edge_data['head']==values_tau[i,1])].line.empty):\n",
    "            edges.append(edge_data[(edge_data['head'] == values_tau[i,0]) & (edge_data['tail']==values_tau[i,1])].line)\n",
    "            types.append(edge_data[(edge_data['head'] == values_tau[i,0]) & (edge_data['tail']==values_tau[i,1])].existing_f)\n",
    "        else:\n",
    "            edges.append(edge_data[(edge_data['tail'] == values_tau[i,0]) & (edge_data['head']==values_tau[i,1])].line)\n",
    "            types.append(edge_data[(edge_data['tail'] == values_tau[i,0]) & (edge_data['head']==values_tau[i,1])].existing_f)\n",
    "\n",
    "    edges_df = pd.DataFrame(data = np.array(edges), columns = ['lines'])\n",
    "    edges_df['counts'] = counts_tau\n",
    "    edges_df['path_codes'] = np.array(types)\n",
    "    conditions_1 = [(edges_df['path_codes']=='Bike Lane'),\n",
    "                  (edges_df['path_codes']=='Buffered Bike Lane'),\n",
    "                  (edges_df['path_codes']=='Neighborhood Bikeway'),\n",
    "                  (edges_df['path_codes']=='Protected Bike Lane'),\n",
    "                  (edges_df['path_codes']=='Shared Roadway'),\n",
    "                  (edges_df['path_codes']=='Shared Use Path'),\n",
    "                  (edges_df['path_codes']=='Trail')]\n",
    "    colors = ['#FE6100','#DC267F','#785EF0','#DC267F','#FFB000','#648FFF','#648FFF'] #orange, pink, purple, yellow, blue\n",
    "    edges_df['color'] = np.select(conditions_1, colors)\n",
    "    conditions_2 = [(edges_df['counts']<=10),\n",
    "                  ((edges_df['counts']>10) & (edges_df['counts']<=20)),\n",
    "                  ((edges_df['counts']>20) & (edges_df['counts']<=30)),\n",
    "                  ((edges_df['counts']>30) & (edges_df['counts']<=40)),\n",
    "                   ((edges_df['counts']>40) & (edges_df['counts']<=70))]\n",
    "    vals = ['#0037C7','#5A82F3','#1EBED6','#FF5757','#FF0000'] #dark blue to dark red\n",
    "    edges_df['freq'] = np.select(conditions_2, vals)\n",
    "    edges_geo_df = gpd.GeoDataFrame(edges_df, geometry=edges_df['lines'])\n",
    "    return edges_geo_df"
   ]
  },
  {
   "cell_type": "code",
   "execution_count": 62,
   "metadata": {},
   "outputs": [],
   "source": [
    "auraria_tau_c = csv.reader(open('tau_results/auraria_tau_cautious_paths.csv'), delimiter=',')\n",
    "du_tau_c = csv.reader(open('tau_results/DU_tau_cautious_paths.csv'), delimiter=',')\n",
    "dcm_tau_c = csv.reader(open('tau_results/5points_tau_cautious_paths.csv'), delimiter=',')\n",
    "citypark_tau_c = csv.reader(open('tau_results/citypark_tau_cautious_paths.csv'), delimiter=',')\n",
    "union_tau_c = csv.reader(open('tau_results/union_tau_cautious_paths.csv'), delimiter=',')\n",
    "\n",
    "auraria_tau_r = csv.reader(open('tau_results/auraria_tau_risky_paths.csv'), delimiter=',')\n",
    "du_tau_r = csv.reader(open('tau_results/DU_tau_risky_paths.csv'), delimiter=',')\n",
    "dcm_tau_r = csv.reader(open('tau_results/5points_tau_risky_paths.csv'), delimiter=',')\n",
    "citypark_tau_r = csv.reader(open('tau_results/citypark_tau_risky_paths.csv'), delimiter=',')\n",
    "union_tau_r = csv.reader(open('tau_results/union_tau_risky_paths.csv'), delimiter=',')"
   ]
  },
  {
   "cell_type": "code",
   "execution_count": 63,
   "metadata": {},
   "outputs": [],
   "source": [
    "all_tau_paths = []"
   ]
  },
  {
   "cell_type": "code",
   "execution_count": 72,
   "metadata": {},
   "outputs": [],
   "source": [
    "##Cautious Taus\n",
    "# paths = row_conversion(auraria_tau_c)\n",
    "# paths = row_conversion(du_tau_c)\n",
    "# paths = row_conversion(dcm_tau_c)\n",
    "# paths = row_conversion(citypark_tau_c)\n",
    "# paths = row_conversion(union_tau_c)\n",
    "\n",
    "##Risky Taus\n",
    "# paths = row_conversion(auraria_tau_r)\n",
    "# paths = row_conversion(du_tau_r)\n",
    "# paths = row_conversion(dcm_tau_r)\n",
    "# paths = row_conversion(citypark_tau_r)\n",
    "paths = row_conversion(union_tau_r)\n",
    "uniq_tau_paths = remove_subpaths(paths)"
   ]
  },
  {
   "cell_type": "code",
   "execution_count": 73,
   "metadata": {},
   "outputs": [
    {
     "data": {
      "text/plain": [
       "619"
      ]
     },
     "execution_count": 73,
     "metadata": {},
     "output_type": "execute_result"
    }
   ],
   "source": [
    "all_tau_paths.extend(uniq_tau_paths)\n",
    "len(all_tau_paths)"
   ]
  },
  {
   "cell_type": "code",
   "execution_count": 74,
   "metadata": {},
   "outputs": [],
   "source": [
    "tau_path_edges = path_edges(all_tau_paths)\n",
    "values_tau, counts_tau = np.unique(np.array(tau_path_edges), return_counts=True, axis = 0)"
   ]
  },
  {
   "cell_type": "code",
   "execution_count": 75,
   "metadata": {},
   "outputs": [
    {
     "data": {
      "text/plain": [
       "146"
      ]
     },
     "execution_count": 75,
     "metadata": {},
     "output_type": "execute_result"
    }
   ],
   "source": [
    "counts_tau.max()"
   ]
  },
  {
   "cell_type": "code",
   "execution_count": 76,
   "metadata": {},
   "outputs": [],
   "source": [
    "edges_geo_df = tau_path_plot(edge_data_geo,values_tau, counts_tau)"
   ]
  },
  {
   "cell_type": "code",
   "execution_count": 81,
   "metadata": {},
   "outputs": [
    {
     "data": {
      "image/png": "[encoded data removed]",
      "text/plain": [
       "<Figure size 1440x1440 with 1 Axes>"
      ]
     },
     "metadata": {
      "needs_background": "light"
     },
     "output_type": "display_data"
    }
   ],
   "source": [
    "f, ax = plt.subplots(1, 1, figsize=(20, 20), sharex=True, sharey=True)\n",
    "edge_data_geo.plot(color='black', ax=ax, zorder=-1)\n",
    "edges_geo_df.plot(color = 'yellow', ax = ax, linewidth = 5,zorder = 1)\n",
    "(gpd.GeoDataFrame(geometry_locs, geometry=geometry_locs)).plot(markersize = 200,color = 'Black', ax = ax ,zorder = 2)\n",
    "ax.axis(\"off\")\n",
    "plt.title('Adventurous Tau Shortest Paths', fontsize = 30)\n",
    "plt.savefig('tau_r_paths.png')\n",
    "plt.show()"
   ]
  },
  {
   "cell_type": "code",
   "execution_count": null,
   "metadata": {},
   "outputs": [],
   "source": []
  }
 ],
 "metadata": {
  "kernelspec": {
   "display_name": "Python 3 (ipykernel)",
   "language": "python",
   "name": "python3"
  },
  "language_info": {
   "codemirror_mode": {
    "name": "ipython",
    "version": 3
   },
   "file_extension": ".py",
   "mimetype": "text/x-python",
   "name": "python",
   "nbconvert_exporter": "python",
   "pygments_lexer": "ipython3",
   "version": "3.8.12"
  }
 },
 "nbformat": 4,
 "nbformat_minor": 4
}
