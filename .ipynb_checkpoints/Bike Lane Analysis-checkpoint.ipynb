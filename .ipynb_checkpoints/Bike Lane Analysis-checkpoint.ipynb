{
 "cells": [
  {
   "cell_type": "markdown",
   "metadata": {},
   "source": [
    "# Bike Lane Analysis\n",
    "\n",
    "In this document we perform basic exploratory data analysis to give suggestions of where Denver should build new bike lanes. We perform a few different techniques to paint an overall picture of the scenario."
   ]
  },
  {
   "cell_type": "markdown",
   "metadata": {},
   "source": [
    "### Who Can Safely Bike to CU Denver"
   ]
  },
  {
   "cell_type": "code",
   "execution_count": 1,
   "metadata": {},
   "outputs": [],
   "source": [
    "import numpy as np"
   ]
  },
  {
   "cell_type": "code",
   "execution_count": 42,
   "metadata": {},
   "outputs": [],
   "source": [
    "url_CU = \"https://raw.githubusercontent.com/DillWithIt77/D2P_Spring_2022/main/tau_results/auraria_tau_distances_cautious.csv\"\n",
    "data_CU = np.genfromtxt(url_CU, delimiter=\",\")\n",
    "distances_CU = data[:,-1]\n",
    "feasible_nodes_CU = np.where(distances < np.Inf)[0]\n",
    "infeasible_nodes_CU = np.where(distances == np.Inf)[0]"
   ]
  },
  {
   "cell_type": "code",
   "execution_count": null,
   "metadata": {},
   "outputs": [],
   "source": [
    "# Angela can you make plots of these?"
   ]
  },
  {
   "cell_type": "code",
   "execution_count": null,
   "metadata": {},
   "outputs": [],
   "source": []
  },
  {
   "cell_type": "markdown",
   "metadata": {},
   "source": [
    "### Which Routes Should Be Shortened"
   ]
  },
  {
   "cell_type": "markdown",
   "metadata": {},
   "source": [
    "In this block, we analyze nodes that are much further from CU Denver by biking safely than by throwing caution to the wind and riding wherever we want."
   ]
  },
  {
   "cell_type": "code",
   "execution_count": 45,
   "metadata": {},
   "outputs": [],
   "source": [
    "# Read in data\n",
    "url_CU_shortest = \"https://raw.githubusercontent.com/DillWithIt77/D2P_Spring_2022/main/shortest_path_res/auraria_res.csv\"\n",
    "data_CU_shortest = np.genfromtxt(url_CU_shortest, delimiter=\",\")[1:,1]\n",
    "shortdist_CU_feas = data_CU_shortest[feasible_nodes_CU]\n",
    "taudist_CU_feas = distances_CU[feasible_nodes_CU]"
   ]
  },
  {
   "cell_type": "code",
   "execution_count": 62,
   "metadata": {},
   "outputs": [
    {
     "data": {
      "text/plain": [
       "array([998, 725,  87, 909, 847])"
      ]
     },
     "execution_count": 62,
     "metadata": {},
     "output_type": "execute_result"
    }
   ],
   "source": [
    "# Absolute Increase\n",
    "dist_inc = taudist_CU_feas - shortdist_CU_feas\n",
    "big_inc = np.argsort(dist_inc)[::-1]\n",
    "increased_nodes = feasible_nodes_CU[big_inc]\n",
    "\n",
    "# 5 greatest increased\n",
    "increased_nodes[:5]"
   ]
  },
  {
   "cell_type": "code",
   "execution_count": 61,
   "metadata": {},
   "outputs": [],
   "source": [
    "# Length Normalized Increase \n",
    "dist_inc_N = np.array([(taudist_CU_feas[i] - shortdist_CU_feas[i])/shortdist_CU_feas[i] if shortdist_CU_feas[i] != 0 else 0 \n",
    "                       for i in range(len(taudist_CU_feas))])\n",
    "big_inc_N = np.argsort(dist_inc_N)[::-1]\n",
    "increased_nodes_N = feasible_nodes_CU[big_inc_N]"
   ]
  },
  {
   "cell_type": "code",
   "execution_count": 60,
   "metadata": {},
   "outputs": [
    {
     "name": "stdout",
     "output_type": "stream",
     "text": [
      "[   0    0    0    0    0  188 -188    0    0    0    0    0    0    0\n",
      "    0    0    0    0    0    0    0    0    0    0    0    0    0    0\n",
      "    0    0    0    0    0    0    0    0    0    0    0    0    0    0\n",
      "    0    0    0    0    0    0    0    0    0    0    0    0    0    0\n",
      "    0    0    0    0    0    0    0    0    0    0    0    0    0    0\n",
      "    0    0    0    0    0    0    0    0    0    0    0    0    0    0\n",
      "    0    0    0    0    0    0    0    0    0    0    0    0    0    0\n",
      "    0    0    0    0    0    0    0    0    0    0    0    0    0    0\n",
      "    0    0    0    0    0    0    0    0    0    0    0    0    0    0\n",
      "    0    0    0    0    0    0    0    0    0    0    0    0    0    0\n",
      "    0    0    0    0    0    0    0    0    0    0    0    0    0    0\n",
      "    0    0    0    0    0    0    0    0    0    0    0    0    0    0\n",
      "    0    0    0    0    0    0    0    0    0    0    0    0    0    0\n",
      "    0    0    0    0    0    0    0    0    0    0    0    0    0    0\n",
      "    0    0    0    0    0    0    0    0    0    0    0    0    0    0\n",
      "    0    0    0    0    0    0    0    0    0    0    0    0    0    0\n",
      "    0    0    0    0    0    0    0    0    0    0    0    0    0    0\n",
      "    0    0    0    0    0    0    0    0    0    0    0    0    0    0\n",
      "    0    0    0]\n"
     ]
    }
   ],
   "source": [
    "# Notice the indices didnt change much\n",
    "# So probably don't need to worry about this kind of analysis\n",
    "print(big_inc_N - big_inc)"
   ]
  },
  {
   "cell_type": "code",
   "execution_count": 63,
   "metadata": {},
   "outputs": [],
   "source": [
    "# Angela can you plot the shortest path and tau shortest path in one plot?\n",
    "# Maybe make 3-5 plots for the greatest increases\n",
    "# This is Auraria so node 26.\n",
    "# 5 greatest increased are 998, 725,  87, 909, 847\n",
    "# Can you highlight the shared lane and unprotected bike lanes?"
   ]
  },
  {
   "cell_type": "code",
   "execution_count": null,
   "metadata": {},
   "outputs": [],
   "source": []
  }
 ],
 "metadata": {
  "kernelspec": {
   "display_name": "Python 3 (ipykernel)",
   "language": "python",
   "name": "python3"
  },
  "language_info": {
   "codemirror_mode": {
    "name": "ipython",
    "version": 3
   },
   "file_extension": ".py",
   "mimetype": "text/x-python",
   "name": "python",
   "nbconvert_exporter": "python",
   "pygments_lexer": "ipython3",
   "version": "3.8.12"
  }
 },
 "nbformat": 4,
 "nbformat_minor": 4
}
